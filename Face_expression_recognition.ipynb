{
  "nbformat": 4,
  "nbformat_minor": 0,
  "metadata": {
    "colab": {
      "name": "Face expression recognition.ipynb",
      "provenance": [],
      "collapsed_sections": [],
      "authorship_tag": "ABX9TyOOmVD8JoAIe0y6D8seotuL",
      "include_colab_link": true
    },
    "kernelspec": {
      "name": "python3",
      "display_name": "Python 3"
    },
    "accelerator": "GPU"
  },
  "cells": [
    {
      "cell_type": "markdown",
      "metadata": {
        "id": "view-in-github",
        "colab_type": "text"
      },
      "source": [
        "<a href=\"https://colab.research.google.com/github/narsym/facial-expression-detection/blob/master/Face_expression_recognition.ipynb\" target=\"_parent\"><img src=\"https://colab.research.google.com/assets/colab-badge.svg\" alt=\"Open In Colab\"/></a>"
      ]
    },
    {
      "cell_type": "markdown",
      "metadata": {
        "id": "p0u8j5gW_XiK",
        "colab_type": "text"
      },
      "source": [
        "Installing kaggle for download"
      ]
    },
    {
      "cell_type": "code",
      "metadata": {
        "id": "ZWDl-EveUdWK",
        "colab_type": "code",
        "colab": {
          "base_uri": "https://localhost:8080/",
          "height": 220
        },
        "outputId": "90f2091f-b31e-40be-fe1e-8f66b745d5bc"
      },
      "source": [
        "!pip install kaggle"
      ],
      "execution_count": 1,
      "outputs": [
        {
          "output_type": "stream",
          "text": [
            "Requirement already satisfied: kaggle in /usr/local/lib/python3.6/dist-packages (1.5.6)\n",
            "Requirement already satisfied: python-slugify in /usr/local/lib/python3.6/dist-packages (from kaggle) (4.0.0)\n",
            "Requirement already satisfied: urllib3<1.25,>=1.21.1 in /usr/local/lib/python3.6/dist-packages (from kaggle) (1.24.3)\n",
            "Requirement already satisfied: requests in /usr/local/lib/python3.6/dist-packages (from kaggle) (2.23.0)\n",
            "Requirement already satisfied: tqdm in /usr/local/lib/python3.6/dist-packages (from kaggle) (4.41.1)\n",
            "Requirement already satisfied: certifi in /usr/local/lib/python3.6/dist-packages (from kaggle) (2020.4.5.2)\n",
            "Requirement already satisfied: six>=1.10 in /usr/local/lib/python3.6/dist-packages (from kaggle) (1.12.0)\n",
            "Requirement already satisfied: python-dateutil in /usr/local/lib/python3.6/dist-packages (from kaggle) (2.8.1)\n",
            "Requirement already satisfied: text-unidecode>=1.3 in /usr/local/lib/python3.6/dist-packages (from python-slugify->kaggle) (1.3)\n",
            "Requirement already satisfied: idna<3,>=2.5 in /usr/local/lib/python3.6/dist-packages (from requests->kaggle) (2.9)\n",
            "Requirement already satisfied: chardet<4,>=3.0.2 in /usr/local/lib/python3.6/dist-packages (from requests->kaggle) (3.0.4)\n"
          ],
          "name": "stdout"
        }
      ]
    },
    {
      "cell_type": "markdown",
      "metadata": {
        "id": "VCpLjZTc_bq4",
        "colab_type": "text"
      },
      "source": [
        "Upload files to colab"
      ]
    },
    {
      "cell_type": "code",
      "metadata": {
        "id": "15PWaBcYarIi",
        "colab_type": "code",
        "colab": {}
      },
      "source": [
        "from google.colab import files\n",
        "files.upload()"
      ],
      "execution_count": null,
      "outputs": []
    },
    {
      "cell_type": "markdown",
      "metadata": {
        "id": "jre5aqgF_gui",
        "colab_type": "text"
      },
      "source": [
        "Prepartion to download the dataset"
      ]
    },
    {
      "cell_type": "code",
      "metadata": {
        "id": "mDKEnbMsa85k",
        "colab_type": "code",
        "colab": {}
      },
      "source": [
        "!mkdir -p ~/.kaggle\n",
        "!cp kaggle.json ~/.kaggle/\n",
        "\n",
        "!chmod 600 ~/.kaggle/kaggle.json"
      ],
      "execution_count": 3,
      "outputs": []
    },
    {
      "cell_type": "markdown",
      "metadata": {
        "id": "w8-QadkE_lXQ",
        "colab_type": "text"
      },
      "source": [
        "Download the dataset"
      ]
    },
    {
      "cell_type": "code",
      "metadata": {
        "id": "8d3ugu99blem",
        "colab_type": "code",
        "colab": {
          "base_uri": "https://localhost:8080/",
          "height": 72
        },
        "outputId": "b171e237-affa-4f75-d9da-79c3ffc0715c"
      },
      "source": [
        "!kaggle datasets download -d ashishpatel26/fer2018"
      ],
      "execution_count": 4,
      "outputs": [
        {
          "output_type": "stream",
          "text": [
            "Downloading fer2018.zip to /content\n",
            " 76% 73.0M/96.6M [00:01<00:00, 27.1MB/s]\n",
            "100% 96.6M/96.6M [00:01<00:00, 57.2MB/s]\n"
          ],
          "name": "stdout"
        }
      ]
    },
    {
      "cell_type": "markdown",
      "metadata": {
        "id": "B0MR5F6H_oKu",
        "colab_type": "text"
      },
      "source": [
        "Unzip file"
      ]
    },
    {
      "cell_type": "code",
      "metadata": {
        "id": "KdRo1RAXcU5C",
        "colab_type": "code",
        "colab": {
          "base_uri": "https://localhost:8080/",
          "height": 109
        },
        "outputId": "8b98248e-e300-4b9b-8761-78233e3aed02"
      },
      "source": [
        "!unzip fer2018.zip"
      ],
      "execution_count": 5,
      "outputs": [
        {
          "output_type": "stream",
          "text": [
            "Archive:  fer2018.zip\n",
            "  inflating: README                  \n",
            "  inflating: fer2013.bib             \n",
            "  inflating: fer20131.csv            \n",
            "  inflating: ferSubmission.csv       \n"
          ],
          "name": "stdout"
        }
      ]
    },
    {
      "cell_type": "markdown",
      "metadata": {
        "id": "PN4tk8E4_qeG",
        "colab_type": "text"
      },
      "source": [
        "Import necessary libraries"
      ]
    },
    {
      "cell_type": "code",
      "metadata": {
        "id": "sf4BrjEJz7Y3",
        "colab_type": "code",
        "colab": {}
      },
      "source": [
        "import pandas as pd\n",
        "import tensorflow as tf\n",
        "import numpy as np"
      ],
      "execution_count": 6,
      "outputs": []
    },
    {
      "cell_type": "markdown",
      "metadata": {
        "id": "zCw1flG__tvf",
        "colab_type": "text"
      },
      "source": [
        "Read the data"
      ]
    },
    {
      "cell_type": "code",
      "metadata": {
        "id": "OnRt77jK0FX3",
        "colab_type": "code",
        "colab": {}
      },
      "source": [
        "data = pd.read_csv('./fer20131.csv')"
      ],
      "execution_count": 8,
      "outputs": []
    },
    {
      "cell_type": "markdown",
      "metadata": {
        "id": "-yxinBM1_vms",
        "colab_type": "text"
      },
      "source": [
        "Check shape"
      ]
    },
    {
      "cell_type": "code",
      "metadata": {
        "id": "DzaIKnz9X3pK",
        "colab_type": "code",
        "colab": {
          "base_uri": "https://localhost:8080/",
          "height": 35
        },
        "outputId": "c8726d95-1e4a-4ab5-af32-35d72a046e9a"
      },
      "source": [
        "data.shape"
      ],
      "execution_count": 9,
      "outputs": [
        {
          "output_type": "execute_result",
          "data": {
            "text/plain": [
              "(35887, 3)"
            ]
          },
          "metadata": {
            "tags": []
          },
          "execution_count": 9
        }
      ]
    },
    {
      "cell_type": "markdown",
      "metadata": {
        "id": "mKAKRUoU_w8P",
        "colab_type": "text"
      },
      "source": [
        "Check first few rows"
      ]
    },
    {
      "cell_type": "code",
      "metadata": {
        "id": "B8zwL9t8oEa4",
        "colab_type": "code",
        "colab": {
          "base_uri": "https://localhost:8080/",
          "height": 206
        },
        "outputId": "de259c5b-dc87-476b-d38b-d08de0e1eb02"
      },
      "source": [
        "data.head()"
      ],
      "execution_count": 10,
      "outputs": [
        {
          "output_type": "execute_result",
          "data": {
            "text/html": [
              "<div>\n",
              "<style scoped>\n",
              "    .dataframe tbody tr th:only-of-type {\n",
              "        vertical-align: middle;\n",
              "    }\n",
              "\n",
              "    .dataframe tbody tr th {\n",
              "        vertical-align: top;\n",
              "    }\n",
              "\n",
              "    .dataframe thead th {\n",
              "        text-align: right;\n",
              "    }\n",
              "</style>\n",
              "<table border=\"1\" class=\"dataframe\">\n",
              "  <thead>\n",
              "    <tr style=\"text-align: right;\">\n",
              "      <th></th>\n",
              "      <th>emotion</th>\n",
              "      <th>pixels</th>\n",
              "      <th>Usage</th>\n",
              "    </tr>\n",
              "  </thead>\n",
              "  <tbody>\n",
              "    <tr>\n",
              "      <th>0</th>\n",
              "      <td>0</td>\n",
              "      <td>70 80 82 72 58 58 60 63 54 58 60 48 89 115 121...</td>\n",
              "      <td>Training</td>\n",
              "    </tr>\n",
              "    <tr>\n",
              "      <th>1</th>\n",
              "      <td>0</td>\n",
              "      <td>151 150 147 155 148 133 111 140 170 174 182 15...</td>\n",
              "      <td>Training</td>\n",
              "    </tr>\n",
              "    <tr>\n",
              "      <th>2</th>\n",
              "      <td>2</td>\n",
              "      <td>231 212 156 164 174 138 161 173 182 200 106 38...</td>\n",
              "      <td>Training</td>\n",
              "    </tr>\n",
              "    <tr>\n",
              "      <th>3</th>\n",
              "      <td>4</td>\n",
              "      <td>24 32 36 30 32 23 19 20 30 41 21 22 32 34 21 1...</td>\n",
              "      <td>Training</td>\n",
              "    </tr>\n",
              "    <tr>\n",
              "      <th>4</th>\n",
              "      <td>6</td>\n",
              "      <td>4 0 0 0 0 0 0 0 0 0 0 0 3 15 23 28 48 50 58 84...</td>\n",
              "      <td>Training</td>\n",
              "    </tr>\n",
              "  </tbody>\n",
              "</table>\n",
              "</div>"
            ],
            "text/plain": [
              "   emotion                                             pixels     Usage\n",
              "0        0  70 80 82 72 58 58 60 63 54 58 60 48 89 115 121...  Training\n",
              "1        0  151 150 147 155 148 133 111 140 170 174 182 15...  Training\n",
              "2        2  231 212 156 164 174 138 161 173 182 200 106 38...  Training\n",
              "3        4  24 32 36 30 32 23 19 20 30 41 21 22 32 34 21 1...  Training\n",
              "4        6  4 0 0 0 0 0 0 0 0 0 0 0 3 15 23 28 48 50 58 84...  Training"
            ]
          },
          "metadata": {
            "tags": []
          },
          "execution_count": 10
        }
      ]
    },
    {
      "cell_type": "markdown",
      "metadata": {
        "id": "lp56z_Vm_zPU",
        "colab_type": "text"
      },
      "source": [
        "Taking training, test and validation data"
      ]
    },
    {
      "cell_type": "code",
      "metadata": {
        "id": "_bMdXozy_czo",
        "colab_type": "code",
        "colab": {}
      },
      "source": [
        "train_data = data[data.Usage == 'Training']\n",
        "val_data = data[data.Usage == 'PublicTest']\n",
        "test_data = data[data.Usage == 'PrivateTest']"
      ],
      "execution_count": 11,
      "outputs": []
    },
    {
      "cell_type": "markdown",
      "metadata": {
        "id": "d8NLZo-q_4NZ",
        "colab_type": "text"
      },
      "source": [
        "Checking the balance of the dataset"
      ]
    },
    {
      "cell_type": "code",
      "metadata": {
        "id": "iIi8PrZGBsGp",
        "colab_type": "code",
        "colab": {
          "base_uri": "https://localhost:8080/",
          "height": 165
        },
        "outputId": "bcee5107-e6ad-43d6-9f5f-4658b56fc540"
      },
      "source": [
        "train_data.emotion.value_counts()"
      ],
      "execution_count": 12,
      "outputs": [
        {
          "output_type": "execute_result",
          "data": {
            "text/plain": [
              "3    7215\n",
              "6    4965\n",
              "4    4830\n",
              "2    4097\n",
              "0    3995\n",
              "5    3171\n",
              "1     436\n",
              "Name: emotion, dtype: int64"
            ]
          },
          "metadata": {
            "tags": []
          },
          "execution_count": 12
        }
      ]
    },
    {
      "cell_type": "markdown",
      "metadata": {
        "id": "Zb35BWPL_8JM",
        "colab_type": "text"
      },
      "source": [
        "The records in classes are all not equal, so imbalanced. so use class weights to penalise"
      ]
    },
    {
      "cell_type": "code",
      "metadata": {
        "id": "EvOnBn0HYqn2",
        "colab_type": "code",
        "colab": {}
      },
      "source": [
        "zero = train_data.shape[0] // 3995\n",
        "one = train_data.shape[0] // 436\n",
        "two = train_data.shape[0] // 4097\n",
        "three = train_data.shape[0] // 7215\n",
        "four = train_data.shape[0] // 4830\n",
        "five = train_data.shape[0] // 3171\n",
        "six = train_data.shape[0] // 4965"
      ],
      "execution_count": 13,
      "outputs": []
    },
    {
      "cell_type": "markdown",
      "metadata": {
        "id": "AeG7YB8lAGGn",
        "colab_type": "text"
      },
      "source": [
        "Checking the class weights"
      ]
    },
    {
      "cell_type": "code",
      "metadata": {
        "id": "UMMfwBesYshg",
        "colab_type": "code",
        "colab": {
          "base_uri": "https://localhost:8080/",
          "height": 35
        },
        "outputId": "3f4f2745-6c44-4576-e395-6a22e6d47e08"
      },
      "source": [
        "zero, one, two, three, four, five, six"
      ],
      "execution_count": 14,
      "outputs": [
        {
          "output_type": "execute_result",
          "data": {
            "text/plain": [
              "(7, 65, 7, 3, 5, 9, 5)"
            ]
          },
          "metadata": {
            "tags": []
          },
          "execution_count": 14
        }
      ]
    },
    {
      "cell_type": "markdown",
      "metadata": {
        "id": "xslGG2MMAIZC",
        "colab_type": "text"
      },
      "source": [
        "Labels for classes"
      ]
    },
    {
      "cell_type": "code",
      "metadata": {
        "id": "izYEWSVn0Igl",
        "colab_type": "code",
        "colab": {
          "base_uri": "https://localhost:8080/",
          "height": 206
        },
        "outputId": "ac19f193-94f0-4b7c-c006-194298ee694e"
      },
      "source": [
        "label_map = ['Anger', 'Disgust', 'Fear', 'Happy', 'Sad', 'Surprise', 'Neutral']\n",
        "data.head()"
      ],
      "execution_count": 15,
      "outputs": [
        {
          "output_type": "execute_result",
          "data": {
            "text/html": [
              "<div>\n",
              "<style scoped>\n",
              "    .dataframe tbody tr th:only-of-type {\n",
              "        vertical-align: middle;\n",
              "    }\n",
              "\n",
              "    .dataframe tbody tr th {\n",
              "        vertical-align: top;\n",
              "    }\n",
              "\n",
              "    .dataframe thead th {\n",
              "        text-align: right;\n",
              "    }\n",
              "</style>\n",
              "<table border=\"1\" class=\"dataframe\">\n",
              "  <thead>\n",
              "    <tr style=\"text-align: right;\">\n",
              "      <th></th>\n",
              "      <th>emotion</th>\n",
              "      <th>pixels</th>\n",
              "      <th>Usage</th>\n",
              "    </tr>\n",
              "  </thead>\n",
              "  <tbody>\n",
              "    <tr>\n",
              "      <th>0</th>\n",
              "      <td>0</td>\n",
              "      <td>70 80 82 72 58 58 60 63 54 58 60 48 89 115 121...</td>\n",
              "      <td>Training</td>\n",
              "    </tr>\n",
              "    <tr>\n",
              "      <th>1</th>\n",
              "      <td>0</td>\n",
              "      <td>151 150 147 155 148 133 111 140 170 174 182 15...</td>\n",
              "      <td>Training</td>\n",
              "    </tr>\n",
              "    <tr>\n",
              "      <th>2</th>\n",
              "      <td>2</td>\n",
              "      <td>231 212 156 164 174 138 161 173 182 200 106 38...</td>\n",
              "      <td>Training</td>\n",
              "    </tr>\n",
              "    <tr>\n",
              "      <th>3</th>\n",
              "      <td>4</td>\n",
              "      <td>24 32 36 30 32 23 19 20 30 41 21 22 32 34 21 1...</td>\n",
              "      <td>Training</td>\n",
              "    </tr>\n",
              "    <tr>\n",
              "      <th>4</th>\n",
              "      <td>6</td>\n",
              "      <td>4 0 0 0 0 0 0 0 0 0 0 0 3 15 23 28 48 50 58 84...</td>\n",
              "      <td>Training</td>\n",
              "    </tr>\n",
              "  </tbody>\n",
              "</table>\n",
              "</div>"
            ],
            "text/plain": [
              "   emotion                                             pixels     Usage\n",
              "0        0  70 80 82 72 58 58 60 63 54 58 60 48 89 115 121...  Training\n",
              "1        0  151 150 147 155 148 133 111 140 170 174 182 15...  Training\n",
              "2        2  231 212 156 164 174 138 161 173 182 200 106 38...  Training\n",
              "3        4  24 32 36 30 32 23 19 20 30 41 21 22 32 34 21 1...  Training\n",
              "4        6  4 0 0 0 0 0 0 0 0 0 0 0 3 15 23 28 48 50 58 84...  Training"
            ]
          },
          "metadata": {
            "tags": []
          },
          "execution_count": 15
        }
      ]
    },
    {
      "cell_type": "markdown",
      "metadata": {
        "id": "6VmkrgBMAKFc",
        "colab_type": "text"
      },
      "source": [
        "Extracting the data from csv file and converting it into numpy array"
      ]
    },
    {
      "cell_type": "code",
      "metadata": {
        "id": "gBNJdbSy38yT",
        "colab_type": "code",
        "colab": {}
      },
      "source": [
        "def getData(data, ind):\n",
        "    # images are 48x48\n",
        "    # N = 35887\n",
        "    Y = []\n",
        "    X = []\n",
        "    first = True\n",
        "    for i in range(data.shape[0]):\n",
        "            Y.append(int(data.emotion[i + ind]))\n",
        "            x = [int(p) for p in data.pixels[i + ind].split()]\n",
        "            x = np.array(x).reshape(48, 48, 1)\n",
        "            x = tf.image.grayscale_to_rgb(tf.constant(x.tolist())).numpy()\n",
        "            X.append(x)\n",
        "    X, Y = np.array(X),  np.array(Y)\n",
        "    return X, Y"
      ],
      "execution_count": 17,
      "outputs": []
    },
    {
      "cell_type": "markdown",
      "metadata": {
        "id": "2XkBDZEuASML",
        "colab_type": "text"
      },
      "source": [
        "Loading the data"
      ]
    },
    {
      "cell_type": "code",
      "metadata": {
        "id": "ZltxvCLc4TwZ",
        "colab_type": "code",
        "colab": {}
      },
      "source": [
        "train_x, train_y = getData(train_data, 0)\n",
        "val_x, val_y = getData(val_data, train_data.shape[0])\n",
        "test_x, test_y = getData(test_data, train_data.shape[0] + val_data.shape[0])"
      ],
      "execution_count": 18,
      "outputs": []
    },
    {
      "cell_type": "markdown",
      "metadata": {
        "id": "dC_ZAyfDAVvv",
        "colab_type": "text"
      },
      "source": [
        "Checking the shape "
      ]
    },
    {
      "cell_type": "code",
      "metadata": {
        "id": "M95vbRkL8myJ",
        "colab_type": "code",
        "colab": {
          "base_uri": "https://localhost:8080/",
          "height": 35
        },
        "outputId": "ee0f2fd3-f539-4cd8-f06b-a163b5b7a52b"
      },
      "source": [
        "train_x.shape, train_y.shape"
      ],
      "execution_count": 21,
      "outputs": [
        {
          "output_type": "execute_result",
          "data": {
            "text/plain": [
              "((28709, 48, 48, 3), (28709, 7))"
            ]
          },
          "metadata": {
            "tags": []
          },
          "execution_count": 21
        }
      ]
    },
    {
      "cell_type": "markdown",
      "metadata": {
        "id": "QsHliPqaAbcw",
        "colab_type": "text"
      },
      "source": [
        "Converting the data into dataset object"
      ]
    },
    {
      "cell_type": "code",
      "metadata": {
        "id": "8NDfNAet7Dzh",
        "colab_type": "code",
        "colab": {}
      },
      "source": [
        "train_data = tf.data.Dataset.from_tensor_slices((train_x, train_y))\n",
        "val_data = tf.data.Dataset.from_tensor_slices((val_x, val_y))\n",
        "test_data = tf.data.Dataset.from_tensor_slices((test_x, test_y))"
      ],
      "execution_count": 22,
      "outputs": []
    },
    {
      "cell_type": "markdown",
      "metadata": {
        "id": "L9l-ap93AhWv",
        "colab_type": "text"
      },
      "source": [
        "Shuffling the data and making it into batches "
      ]
    },
    {
      "cell_type": "code",
      "metadata": {
        "id": "wPnaKrM69Hrz",
        "colab_type": "code",
        "colab": {}
      },
      "source": [
        "train_data = train_data.batch(64).shuffle(5000)\n",
        "val_data = val_data.batch(64).shuffle(1000)\n",
        "test_data = test_data.batch(64).shuffle(1000)"
      ],
      "execution_count": 23,
      "outputs": []
    },
    {
      "cell_type": "markdown",
      "metadata": {
        "id": "73ljcSDIAmV2",
        "colab_type": "text"
      },
      "source": [
        "Defining few callbacks"
      ]
    },
    {
      "cell_type": "code",
      "metadata": {
        "id": "wNLonY2UG7lg",
        "colab_type": "code",
        "colab": {}
      },
      "source": [
        "filepath= \"./check/weights-improvement-{epoch:02d}-{val_accuracy:.2f}.hdf5\"\n",
        "check = tf.keras.callbacks.ModelCheckpoint(filepath, monitor = 'val_accuracy', verbose = 1, save_best_only = False)\n",
        "reduce_lr = tf.keras.callbacks.ReduceLROnPlateau(monitor='val_accuracy', factor=0.1, patience= 2, verbose=0, mode='auto',\n",
        "    min_delta=0.0001, cooldown=0, min_lr=0)\n",
        "callbacks = [check, reduce_lr]"
      ],
      "execution_count": 42,
      "outputs": []
    },
    {
      "cell_type": "markdown",
      "metadata": {
        "id": "JSIJFMRDApOA",
        "colab_type": "text"
      },
      "source": [
        "Class weight dictionary "
      ]
    },
    {
      "cell_type": "code",
      "metadata": {
        "id": "i1OIkL0cY8BY",
        "colab_type": "code",
        "colab": {}
      },
      "source": [
        "class_weight = {0: zero,\n",
        "                1: one,\n",
        "                2: two,\n",
        "                3: three,\n",
        "                4: four,\n",
        "                5: five,\n",
        "                6: six }"
      ],
      "execution_count": 28,
      "outputs": []
    },
    {
      "cell_type": "markdown",
      "metadata": {
        "id": "xyYJ6-aPAsfJ",
        "colab_type": "text"
      },
      "source": [
        "Model for the classification"
      ]
    },
    {
      "cell_type": "code",
      "metadata": {
        "id": "BSMo0A96BZ2a",
        "colab_type": "code",
        "colab": {}
      },
      "source": [
        "    model = tf.keras.Sequential()\n",
        "    input_shape = (48,48,3)\n",
        "    model.add(tf.keras.layers.Conv2D(128, (5, 5), input_shape=input_shape,activation='relu', padding='same'))\n",
        "    model.add(tf.keras.layers.Conv2D(128, (5, 5), activation='relu', padding='same'))\n",
        "    model.add(tf.keras.layers.Dropout(0.2))\n",
        "    model.add(tf.keras.layers.BatchNormalization())\n",
        "    model.add(tf.keras.layers.MaxPooling2D(pool_size=(2, 2)))\n",
        "\n",
        "    model.add(tf.keras.layers.Conv2D(256, (5, 5),activation='relu',padding='same'))\n",
        "    model.add(tf.keras.layers.Conv2D(256, (5, 5),activation='relu',padding='same'))\n",
        "    model.add(tf.keras.layers.Dropout(0.3))\n",
        "    model.add(tf.keras.layers.BatchNormalization())\n",
        "    model.add(tf.keras.layers.MaxPooling2D(pool_size=(2, 2)))\n",
        "\n",
        "    model.add(tf.keras.layers.Conv2D(512, (3, 3),activation='relu',padding='same'))\n",
        "    model.add(tf.keras.layers.Conv2D(512, (3, 3),activation='relu',padding='same'))\n",
        "    model.add(tf.keras.layers.Dropout(0.2))\n",
        "    model.add(tf.keras.layers.BatchNormalization())\n",
        "    model.add(tf.keras.layers.MaxPooling2D(pool_size=(2, 2)))\n",
        "    \n",
        "    model.add(tf.keras.layers.Conv2D(128, (3, 3),activation='relu',padding='same'))\n",
        "    model.add(tf.keras.layers.Conv2D(128, (3, 3),activation='relu',padding='same'))\n",
        "    model.add(tf.keras.layers.Dropout(0.2))\n",
        "    model.add(tf.keras.layers.BatchNormalization())\n",
        "    model.add(tf.keras.layers.MaxPooling2D(pool_size=(2, 2)))\n",
        "\n",
        "    model.add(tf.keras.layers.Flatten())\n",
        "    model.add(tf.keras.layers.Dense(1024, activation = 'relu'))\n",
        "    model.add(tf.keras.layers.Dropout(0.2))\n",
        "    model.add(tf.keras.layers.Dense(128, activation = 'relu'))\n",
        "    model.add(tf.keras.layers.Dense(7, activation = 'softmax'))\n",
        "    \n",
        "    model.compile(loss='categorical_crossentropy', metrics=['accuracy'],optimizer='adam')"
      ],
      "execution_count": 37,
      "outputs": []
    },
    {
      "cell_type": "markdown",
      "metadata": {
        "id": "3B4I-UUlAvCt",
        "colab_type": "text"
      },
      "source": [
        "Training the model"
      ]
    },
    {
      "cell_type": "code",
      "metadata": {
        "id": "BT8rIo92qOkT",
        "colab_type": "code",
        "colab": {}
      },
      "source": [
        "model.fit(train_data, epochs = 20, callbacks = callbacks, validation_data = val_data)"
      ],
      "execution_count": null,
      "outputs": []
    },
    {
      "cell_type": "markdown",
      "metadata": {
        "id": "cHjlUkfqAx3O",
        "colab_type": "text"
      },
      "source": [
        "evaluating on the test set"
      ]
    },
    {
      "cell_type": "code",
      "metadata": {
        "id": "jqcz5uQVqX_4",
        "colab_type": "code",
        "colab": {
          "base_uri": "https://localhost:8080/",
          "height": 54
        },
        "outputId": "efd6a8c5-52d1-4039-d44e-240ee6b7a572"
      },
      "source": [
        "model.evaluate(test_data)"
      ],
      "execution_count": 45,
      "outputs": [
        {
          "output_type": "stream",
          "text": [
            "57/57 [==============================] - 1s 16ms/step - loss: 1.4421 - accuracy: 0.6601\n"
          ],
          "name": "stdout"
        },
        {
          "output_type": "execute_result",
          "data": {
            "text/plain": [
              "[1.4421006441116333, 0.6600724458694458]"
            ]
          },
          "metadata": {
            "tags": []
          },
          "execution_count": 45
        }
      ]
    },
    {
      "cell_type": "markdown",
      "metadata": {
        "id": "mOWrT78QA0uR",
        "colab_type": "text"
      },
      "source": [
        "we got 66% on the test set"
      ]
    },
    {
      "cell_type": "markdown",
      "metadata": {
        "id": "GHAGWqwdA4Nv",
        "colab_type": "text"
      },
      "source": [
        "Saving the model"
      ]
    },
    {
      "cell_type": "code",
      "metadata": {
        "id": "KAysbmECtUd-",
        "colab_type": "code",
        "colab": {}
      },
      "source": [
        "model.save('./final_model.h5')"
      ],
      "execution_count": 46,
      "outputs": []
    },
    {
      "cell_type": "markdown",
      "metadata": {
        "id": "qbMa1b14A6h7",
        "colab_type": "text"
      },
      "source": [
        "Loading the saved model"
      ]
    },
    {
      "cell_type": "code",
      "metadata": {
        "id": "myrHqf2jv9B-",
        "colab_type": "code",
        "colab": {}
      },
      "source": [
        "model2 = tf.keras.models.load_model('./final_model.h5')"
      ],
      "execution_count": 51,
      "outputs": []
    },
    {
      "cell_type": "markdown",
      "metadata": {
        "id": "-7I2u5hgBhy5",
        "colab_type": "text"
      },
      "source": [
        "Evaluating the loaded model"
      ]
    },
    {
      "cell_type": "code",
      "metadata": {
        "id": "aT1SHZdPwXrp",
        "colab_type": "code",
        "colab": {
          "base_uri": "https://localhost:8080/",
          "height": 54
        },
        "outputId": "fef09d9c-d62b-4c7d-9a6d-b9666a478783"
      },
      "source": [
        "model2.evaluate(test_data)"
      ],
      "execution_count": 52,
      "outputs": [
        {
          "output_type": "stream",
          "text": [
            "57/57 [==============================] - 1s 16ms/step - loss: 1.4421 - accuracy: 0.6601\n"
          ],
          "name": "stdout"
        },
        {
          "output_type": "execute_result",
          "data": {
            "text/plain": [
              "[1.4421007633209229, 0.6600724458694458]"
            ]
          },
          "metadata": {
            "tags": []
          },
          "execution_count": 52
        }
      ]
    },
    {
      "cell_type": "markdown",
      "metadata": {
        "id": "YoRaQxrNBkVS",
        "colab_type": "text"
      },
      "source": [
        "performance is same."
      ]
    }
  ]
}